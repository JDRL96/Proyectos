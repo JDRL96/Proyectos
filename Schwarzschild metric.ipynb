{
 "cells": [
  {
   "cell_type": "code",
   "execution_count": 1,
   "metadata": {
    "collapsed": false,
    "scrolled": true
   },
   "outputs": [
    {
     "name": "stderr",
     "output_type": "stream",
     "text": [
      "\u001b[1m\u001b[34mINFO: Nothing to be done\n",
      "\u001b[0m\u001b[1m\u001b[34mINFO: METADATA is out-of-date — you may not have the latest version of Sympy\n",
      "\u001b[0m\u001b[1m\u001b[34mINFO: Use `Pkg.update()` to get the latest versions of your packages\n",
      "\u001b[0m"
     ]
    }
   ],
   "source": [
    "Pkg.add(\"Sympy\")"
   ]
  },
  {
   "cell_type": "code",
   "execution_count": 2,
   "metadata": {
    "collapsed": true
   },
   "outputs": [],
   "source": [
    "using SymPy"
   ]
  },
  {
   "cell_type": "code",
   "execution_count": 3,
   "metadata": {
    "collapsed": false
   },
   "outputs": [
    {
     "data": {
      "text/plain": [
       "(G,M,t,r,theta,phi)"
      ]
     },
     "execution_count": 3,
     "metadata": {},
     "output_type": "execute_result"
    }
   ],
   "source": [
    "G, M, t, r, θ, ϕ =  symbols(\"G, M, t, r, theta, phi\")"
   ]
  },
  {
   "cell_type": "code",
   "execution_count": 4,
   "metadata": {
    "collapsed": false
   },
   "outputs": [
    {
     "data": {
      "text/latex": [
       "\\begin{bmatrix}\\frac{2 G}{r} M - 1&0&0&0\\\\0&\\frac{1}{- \\frac{2 G}{r} M + 1}&0&0\\\\0&0&r^{2}&0\\\\0&0&0&r^{2} \\sin^{2}{\\left (\\theta \\right )}\\end{bmatrix}"
      ],
      "text/plain": [
       "4×4 Array{SymPy.Sym,2}\n",
       "[2*G*M                                     ]\n",
       "[----- - 1       0       0         0       ]\n",
       "[  r                                       ]\n",
       "[                                          ]\n",
       "[                1                         ]\n",
       "[    0      -----------  0         0       ]\n",
       "[             2*G*M                        ]\n",
       "[           - ----- + 1                    ]\n",
       "[               r                          ]\n",
       "[                                          ]\n",
       "[                         2                ]\n",
       "[    0           0       r         0       ]\n",
       "[                                          ]\n",
       "[                             2    2       ]\n",
       "[    0           0       0   r *sin (theta)]"
      ]
     },
     "execution_count": 4,
     "metadata": {},
     "output_type": "execute_result"
    }
   ],
   "source": [
    "g = [-(1-(2G*M)/r) 0 0 0\n",
    "     0 (1-(2*G*M)/r)^(-1) 0 0\n",
    "     0 0 r^2 0\n",
    "     0 0 0 (r*sin(θ))^2]"
   ]
  },
  {
   "cell_type": "code",
   "execution_count": 5,
   "metadata": {
    "collapsed": false
   },
   "outputs": [
    {
     "data": {
      "text/plain": [
       "X"
      ]
     },
     "execution_count": 5,
     "metadata": {},
     "output_type": "execute_result"
    }
   ],
   "source": [
    "\"Variables\"\n",
    "X = [t, r, θ, ϕ]"
   ]
  },
  {
   "cell_type": "code",
   "execution_count": 6,
   "metadata": {
    "collapsed": false
   },
   "outputs": [
    {
     "data": {
      "text/latex": [
       "$$t$$"
      ],
      "text/plain": [
       "t"
      ]
     },
     "execution_count": 6,
     "metadata": {},
     "output_type": "execute_result"
    }
   ],
   "source": [
    "X[1]"
   ]
  },
  {
   "cell_type": "code",
   "execution_count": 7,
   "metadata": {
    "collapsed": false
   },
   "outputs": [
    {
     "data": {
      "text/latex": [
       "\\begin{bmatrix}\\frac{r}{2 G M - r}&0&0&0\\\\0&\\frac{1}{r} \\left(- 2 G M + r\\right)&0&0\\\\0&0&\\frac{1}{r^{2}}&0\\\\0&0&0&\\frac{1}{r^{2} \\sin^{2}{\\left (\\theta \\right )}}\\end{bmatrix}"
      ],
      "text/plain": [
       "4×4 Array{SymPy.Sym,2}\n",
       "[    r                                    ]\n",
       "[---------      0       0         0       ]\n",
       "[2*G*M - r                                ]\n",
       "[                                         ]\n",
       "[           -2*G*M + r                    ]\n",
       "[    0      ----------  0         0       ]\n",
       "[               r                         ]\n",
       "[                                         ]\n",
       "[                       1                 ]\n",
       "[    0          0       --        0       ]\n",
       "[                        2                ]\n",
       "[                       r                 ]\n",
       "[                                         ]\n",
       "[                                 1       ]\n",
       "[    0          0       0   --------------]\n",
       "[                            2    2       ]\n",
       "[                           r *sin (theta)]"
      ]
     },
     "execution_count": 7,
     "metadata": {},
     "output_type": "execute_result"
    }
   ],
   "source": [
    "g_inv = simplify.(inv(g))"
   ]
  },
  {
   "cell_type": "code",
   "execution_count": 8,
   "metadata": {
    "collapsed": false
   },
   "outputs": [],
   "source": [
    "\"Símbolos de Christoffel\"\n",
    "Γ=[]\n",
    "for i in 1:4\n",
    "    push!(Γ, simplify.([sum([g_inv[i,m]*(diff(g[m,k],X[l]) + diff(g[m,l],X[k])- diff(g[k,l],X[m])) for m in 1:4]) for k in 1:4, l in 1:4]/2))\n",
    "end    "
   ]
  },
  {
   "cell_type": "code",
   "execution_count": 9,
   "metadata": {
    "collapsed": false
   },
   "outputs": [
    {
     "data": {
      "text/plain": [
       "4-element Array{Any,1}:\n",
       " \n",
       "[                     G*M            ]\n",
       "[      0         --------------  0  0]\n",
       "[                r*(-2*G*M + r)      ]\n",
       "[                                    ]\n",
       "[     G*M                            ]\n",
       "[--------------        0         0  0]\n",
       "[r*(-2*G*M + r)                      ]\n",
       "[                                    ]\n",
       "[      0               0         0  0]\n",
       "[                                    ]\n",
       "[      0               0         0  0]                                                                                                                                                                                                                                                                                                                                                                                                                                                                                                 \n",
       " \n",
       "[G*M*(-2*G*M + r)                                                   ]\n",
       "[----------------        0            0                 0           ]\n",
       "[        3                                                          ]\n",
       "[       r                                                           ]\n",
       "[                                                                   ]\n",
       "[                       G*M                                         ]\n",
       "[       0          -------------      0                 0           ]\n",
       "[                  r*(2*G*M - r)                                    ]\n",
       "[                                                                   ]\n",
       "[       0                0        2*G*M - r             0           ]\n",
       "[                                                                   ]\n",
       "[                                                           2       ]\n",
       "[       0                0            0      (2*G*M - r)*sin (theta)]\n",
       " \n",
       "[0  0  0        0       ]\n",
       "[                       ]\n",
       "[      1                ]\n",
       "[0  0  -        0       ]\n",
       "[      r                ]\n",
       "[                       ]\n",
       "[   1                   ]\n",
       "[0  -  0        0       ]\n",
       "[   r                   ]\n",
       "[                       ]\n",
       "[         -sin(2*theta) ]\n",
       "[0  0  0  --------------]\n",
       "[               2       ]                                                                                                                                                                                                                                                                                                                                                                                                                                                                                                                                                                                            \n",
       " \n",
       "[0  0      0           0     ]\n",
       "[                            ]\n",
       "[                      1     ]\n",
       "[0  0      0           -     ]\n",
       "[                      r     ]\n",
       "[                            ]\n",
       "[                      1     ]\n",
       "[0  0      0       ----------]\n",
       "[                  tan(theta)]\n",
       "[                            ]\n",
       "[   1      1                 ]\n",
       "[0  -  ----------      0     ]\n",
       "[   r  tan(theta)            ]                                                                                                                                                                                                                                                                                                                                                                                                                                                                                                                           "
      ]
     },
     "execution_count": 9,
     "metadata": {},
     "output_type": "execute_result"
    }
   ],
   "source": [
    "Γ "
   ]
  },
  {
   "cell_type": "code",
   "execution_count": 10,
   "metadata": {
    "collapsed": false
   },
   "outputs": [
    {
     "data": {
      "text/latex": [
       "\\begin{bmatrix}0&\\frac{2 G M}{r^{2} \\left(- 2 G M + r\\right)}&0&0\\\\\\frac{2 G M}{r^{2} \\left(2 G M - r\\right)}&0&0&0\\\\0&0&0&0\\\\0&0&0&0\\end{bmatrix}"
      ],
      "text/plain": [
       "4×4 Array{SymPy.Sym,2}\n",
       "[                     2*G*M           ]\n",
       "[      0         ---------------  0  0]\n",
       "[                 2                   ]\n",
       "[                r *(-2*G*M + r)      ]\n",
       "[                                     ]\n",
       "[    2*G*M                            ]\n",
       "[--------------         0         0  0]\n",
       "[ 2                                   ]\n",
       "[r *(2*G*M - r)                       ]\n",
       "[                                     ]\n",
       "[      0                0         0  0]\n",
       "[                                     ]\n",
       "[      0                0         0  0]"
      ]
     },
     "execution_count": 10,
     "metadata": {},
     "output_type": "execute_result"
    }
   ],
   "source": [
    "R12 = simplify.([diff(Γ[1][d,2],X[c]) - diff(Γ[1][c,2],X[d]) + sum([Γ[1][c,s]*Γ[s][d,2] - Γ[1][d,s]*Γ[s][c,2] for s in 1:4]) for c in 1:4, d in 1:4])"
   ]
  },
  {
   "cell_type": "code",
   "execution_count": 11,
   "metadata": {
    "collapsed": false
   },
   "outputs": [
    {
     "data": {
      "text/plain": [
       "Ricci"
      ]
     },
     "execution_count": 11,
     "metadata": {},
     "output_type": "execute_result"
    }
   ],
   "source": [
    "\"Tensor de Ricci\"\n",
    "Ricci = simplify.([sum([diff(Γ[c][b,a],X[c]) - diff(Γ[c][c,a],X[b]) + sum([Γ[c][c,s]*Γ[s][b,a] - Γ[c][b,s]*Γ[s][c,a] for s in 1:4]) for c in 1:4]) for a in 1:4, b in 1:4])"
   ]
  },
  {
   "cell_type": "code",
   "execution_count": 12,
   "metadata": {
    "collapsed": false
   },
   "outputs": [
    {
     "data": {
      "text/latex": [
       "\\begin{bmatrix}0&0&0&0\\\\0&0&0&0\\\\0&0&0&0\\\\0&0&0&0\\end{bmatrix}"
      ],
      "text/plain": [
       "4×4 Array{SymPy.Sym,2}\n",
       "[0  0  0  0]\n",
       "[          ]\n",
       "[0  0  0  0]\n",
       "[          ]\n",
       "[0  0  0  0]\n",
       "[          ]\n",
       "[0  0  0  0]"
      ]
     },
     "execution_count": 12,
     "metadata": {},
     "output_type": "execute_result"
    }
   ],
   "source": [
    "Ricci"
   ]
  },
  {
   "cell_type": "code",
   "execution_count": 15,
   "metadata": {
    "collapsed": false
   },
   "outputs": [
    {
     "data": {
      "text/latex": [
       "$$0$$"
      ],
      "text/plain": [
       "0"
      ]
     },
     "execution_count": 15,
     "metadata": {},
     "output_type": "execute_result"
    }
   ],
   "source": [
    "R = sum([sum([g_inv[a,c]*Ricci[a,c] for c in 1:4]) for a in 1:4]) "
   ]
  },
  {
   "cell_type": "code",
   "execution_count": 16,
   "metadata": {
    "collapsed": false
   },
   "outputs": [
    {
     "data": {
      "text/latex": [
       "\\begin{bmatrix}0&0&0&0\\\\0&0&0&0\\\\0&0&0&0\\\\0&0&0&0\\end{bmatrix}"
      ],
      "text/plain": [
       "4×4 Array{SymPy.Sym,2}\n",
       "[0  0  0  0]\n",
       "[          ]\n",
       "[0  0  0  0]\n",
       "[          ]\n",
       "[0  0  0  0]\n",
       "[          ]\n",
       "[0  0  0  0]"
      ]
     },
     "execution_count": 16,
     "metadata": {},
     "output_type": "execute_result"
    }
   ],
   "source": [
    "Einstein = Ricci - R*g"
   ]
  },
  {
   "cell_type": "code",
   "execution_count": null,
   "metadata": {
    "collapsed": true
   },
   "outputs": [],
   "source": []
  }
 ],
 "metadata": {
  "kernelspec": {
   "display_name": "Julia 0.5.0",
   "language": "julia",
   "name": "julia-0.5"
  },
  "language_info": {
   "file_extension": ".jl",
   "mimetype": "application/julia",
   "name": "julia",
   "version": "0.5.0"
  }
 },
 "nbformat": 4,
 "nbformat_minor": 2
}
